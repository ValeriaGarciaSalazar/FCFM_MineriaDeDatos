{
 "cells": [
  {
   "cell_type": "markdown",
   "metadata": {},
   "source": [
    "* Programa 1"
   ]
  },
  {
   "cell_type": "code",
   "execution_count": 6,
   "metadata": {},
   "outputs": [
    {
     "name": "stdout",
     "output_type": "stream",
     "text": [
      "¡Hola mundo!\n"
     ]
    }
   ],
   "source": [
    "print (\"¡Hola mundo!\")"
   ]
  },
  {
   "cell_type": "markdown",
   "metadata": {},
   "source": [
    "# Ejercicio 1\n",
    "\n",
    "* Realiza una variable con tu matricula y realiza una secuencia de imprimir con tu nombre y tu matricula concatenados"
   ]
  },
  {
   "cell_type": "code",
   "execution_count": 10,
   "metadata": {},
   "outputs": [
    {
     "name": "stdout",
     "output_type": "stream",
     "text": [
      "Valeria Garcia1850355\n"
     ]
    }
   ],
   "source": [
    "a = \"Valeria Garcia\"\n",
    "Matricula = 1850355\n",
    "\n",
    "print (a+str(Matricula))"
   ]
  },
  {
   "cell_type": "markdown",
   "metadata": {},
   "source": [
    "* Programa 2 Matematicas sencillas"
   ]
  },
  {
   "cell_type": "code",
   "execution_count": 12,
   "metadata": {},
   "outputs": [
    {
     "name": "stdout",
     "output_type": "stream",
     "text": [
      "16 30 916\n"
     ]
    }
   ],
   "source": [
    "a = 16\n",
    "b = 30\n",
    "\n",
    "c = a + b**2\n",
    "print (a, b, c)"
   ]
  },
  {
   "cell_type": "markdown",
   "metadata": {},
   "source": [
    "Input del usuario:"
   ]
  },
  {
   "cell_type": "code",
   "execution_count": 14,
   "metadata": {},
   "outputs": [
    {
     "name": "stdout",
     "output_type": "stream",
     "text": [
      "Introduce un número:10\n",
      "Introduce otro número: 12\n",
      "Primer número:  10\n",
      "Segundo número:  12\n"
     ]
    }
   ],
   "source": [
    "a1 = int(input(\"Introduce un número:\" ))\n",
    "b1 = int(input(\"Introduce otro número: \"))\n",
    "\n",
    "print (\"Primer número: \", a1)\n",
    "print(\"Segundo número: \", b1)"
   ]
  },
  {
   "cell_type": "markdown",
   "metadata": {},
   "source": [
    "# Ejercicio 2:\n",
    "Pidiendo el input del usuario pide dos números y crea una pequeña calculadora con los operadores básicos de suma, resta, multiplicación, división, y exponente.\n",
    "\n",
    "Utilizando el loop de while"
   ]
  },
  {
   "cell_type": "code",
   "execution_count": 15,
   "metadata": {},
   "outputs": [
    {
     "name": "stdout",
     "output_type": "stream",
     "text": [
      "1\n",
      "2\n",
      "3\n",
      "4\n",
      "5\n",
      "6\n",
      "7\n",
      "8\n",
      "9\n",
      "10\n"
     ]
    }
   ],
   "source": [
    "i=1\n",
    "while i <= 10:\n",
    "    print (i)\n",
    "    i=i+1\n",
    "    \n",
    "#i =+1"
   ]
  },
  {
   "cell_type": "markdown",
   "metadata": {},
   "source": [
    "Utilizando la función de range:"
   ]
  },
  {
   "cell_type": "code",
   "execution_count": 16,
   "metadata": {},
   "outputs": [
    {
     "name": "stdout",
     "output_type": "stream",
     "text": [
      "range(10) -->  [0, 1, 2, 3, 4, 5, 6, 7, 8, 9]\n",
      "range(0,20) -->  [0, 1, 2, 3, 4, 5, 6, 7, 8, 9, 10, 11, 12, 13, 14, 15, 16, 17, 18, 19]\n",
      "range(10,20) -->  [10, 11, 12, 13, 14, 15, 16, 17, 18, 19]\n",
      "range(0,20,2) -->  [0, 2, 4, 6, 8, 10, 12, 14, 16, 18]\n",
      "range(-10,-20,2) -->  []\n",
      "range(-10,-20,-2) -->  [-10, -12, -14, -16, -18]\n"
     ]
    }
   ],
   "source": [
    "print (\"range(10) --> \", list(range(10)))\n",
    "print (\"range(0,20) --> \", list(range(0,20)))\n",
    "print (\"range(10,20) --> \", list(range(10,20)))\n",
    "print (\"range(0,20,2) --> \", list(range(0,20,2)))\n",
    "print (\"range(-10,-20,2) --> \", list(range(-10,-20,2)))\n",
    "print (\"range(-10,-20,-2) --> \", list(range(-10,-20,-2)))"
   ]
  },
  {
   "cell_type": "markdown",
   "metadata": {},
   "source": [
    "Utilizando la función de range en el loop de for:"
   ]
  },
  {
   "cell_type": "code",
   "execution_count": 17,
   "metadata": {},
   "outputs": [
    {
     "name": "stdout",
     "output_type": "stream",
     "text": [
      "0\n",
      "1\n",
      "2\n",
      "3\n",
      "4\n",
      "5\n",
      "6\n",
      "7\n",
      "8\n",
      "9\n"
     ]
    }
   ],
   "source": [
    "for i in range(0,10):\n",
    "    print (i)"
   ]
  },
  {
   "cell_type": "code",
   "execution_count": 18,
   "metadata": {},
   "outputs": [
    {
     "name": "stdout",
     "output_type": "stream",
     "text": [
      "5  *  1  =  5\n",
      "5  *  2  =  10\n",
      "5  *  3  =  15\n",
      "5  *  4  =  20\n",
      "5  *  5  =  25\n",
      "5  *  6  =  30\n",
      "5  *  7  =  35\n",
      "5  *  8  =  40\n",
      "5  *  9  =  45\n",
      "5  *  10  =  50\n"
     ]
    }
   ],
   "source": [
    "for i in range(1,11):\n",
    "    print (5,\" * \", i , \" = \", i * 5)"
   ]
  },
  {
   "cell_type": "markdown",
   "metadata": {},
   "source": [
    "# Ejercicio 3:\n",
    "Con loop while o for, realiza una lista de 10 numeros multiplos de 3, y después realiza una función de loop que sume todos los números dentro del arreglo."
   ]
  },
  {
   "cell_type": "code",
   "execution_count": 20,
   "metadata": {},
   "outputs": [
    {
     "name": "stdout",
     "output_type": "stream",
     "text": [
      "Introduce primer número: 2\n",
      "Introduce segundo número: 4\n",
      "2  <  4\n"
     ]
    }
   ],
   "source": [
    "a = int(input(\"Introduce primer número: \"))\n",
    "b = int(input(\"Introduce segundo número: \"))\n",
    "if  a > b: \n",
    "    print (a,\" > \",b)\n",
    "else:\n",
    "    print (a,\" < \",b)"
   ]
  },
  {
   "cell_type": "markdown",
   "metadata": {},
   "source": [
    "# Ejercicio 4\n",
    "* Con una función de if else, revisar si un número es par o es impar.\n",
    "* Con una función de if else, revisar si un número es primo o no."
   ]
  },
  {
   "cell_type": "code",
   "execution_count": 21,
   "metadata": {},
   "outputs": [
    {
     "name": "stdout",
     "output_type": "stream",
     "text": [
      "Suma(10,20) --> 30\n",
      "Suma(20,50) --> -30\n",
      "Suma(80,200) --> 100.7\n"
     ]
    }
   ],
   "source": [
    "def Suma(a,b):\n",
    "    c=a+b\n",
    "    return c\n",
    "\n",
    "print (\"Suma(10,20) -->\", Suma(10,20))\n",
    "print (\"Suma(20,50) -->\", Suma(20,-50)) \n",
    "print (\"Suma(80,200) -->\", Suma(80,20.7))"
   ]
  },
  {
   "cell_type": "markdown",
   "metadata": {},
   "source": [
    "# Ejercicio 5\n",
    "Utilizando diferentes clases en python, crea una calculadora con los operadores básicos de suma, resta, multiplicación, división, y exponente.\n",
    "\n",
    "Funciones matemáticas en la librería de math en python:"
   ]
  },
  {
   "cell_type": "code",
   "execution_count": 22,
   "metadata": {},
   "outputs": [
    {
     "name": "stdout",
     "output_type": "stream",
     "text": [
      "Función exponencial -->  1.3838965267367376e-87\n",
      "Log -->  6.643856189774725\n",
      "Log  -->  2.0\n",
      "Log 10 -->  2.0\n",
      "Coseno -->  0.15425144988758405\n",
      "Seno -->  -0.9880316240928618\n",
      "Tangente -->  -6.405331196646276\n",
      "Raiz cuadrada -->  18.0\n",
      "Valor techo -->  90\n",
      "Valor piso -->  89\n"
     ]
    }
   ],
   "source": [
    "import math as m\n",
    "\n",
    "print (\"Función exponencial --> \", m.exp(-200))  \n",
    "print (\"Log --> \", m.log(100,2)) # Log\n",
    "print (\"Log  --> \", m.log(100,10))# Log\n",
    "print (\"Log 10 --> \", m.log10(100)) # Log 10\n",
    "print (\"Coseno --> \", m.cos(30))    # cos\n",
    "print (\"Seno --> \", m.sin(30))    # sin\n",
    "print (\"Tangente --> \", m.tan(30))    # tan\n",
    "print (\"Raiz cuadrada --> \", m.sqrt(324)) #Raiz\n",
    "print (\"Valor techo --> \", m.ceil(89.9)) #Valor techo\n",
    "print (\"Valor piso --> \", m.floor(89.9)) #Valor piso"
   ]
  },
  {
   "cell_type": "markdown",
   "metadata": {},
   "source": [
    "Como utilizar variables de string como listas para buscar elementos:"
   ]
  },
  {
   "cell_type": "code",
   "execution_count": 23,
   "metadata": {},
   "outputs": [
    {
     "name": "stdout",
     "output_type": "stream",
     "text": [
      "var1 -->  Hola mundo!\n",
      "var2 -->  Programas de python\n",
      "var1[0] -->  H\n",
      "var2[1:5] -->  rogr\n",
      "var2[:-5] -->  Programas de p\n"
     ]
    }
   ],
   "source": [
    "var1 = 'Hola mundo!'\n",
    "var2 = \"Programas de python\"\n",
    " \n",
    "print (\"var1 --> \", var1)\n",
    "print (\"var2 --> \",var2)\n",
    "print (\"var1[0] --> \", var1[0])\n",
    "print (\"var2[1:5] --> \", var2[1:5])\n",
    "print (\"var2[:-5] --> \", var2[:-5])"
   ]
  },
  {
   "cell_type": "code",
   "execution_count": 24,
   "metadata": {},
   "outputs": [
    {
     "name": "stdout",
     "output_type": "stream",
     "text": [
      "var1 -->  Hola mundo!\n",
      "var2 -->  Programas de python\n",
      "\n",
      "Tamaño de var1 --> :  11\n",
      "Tamaño de var2 --> :  19\n",
      "\n",
      "Uppercase para var1 --> :  HOLA MUNDO!\n",
      "Upper case para var2 --> :  PROGRAMAS DE PYTHON\n",
      "\n",
      "Lower case para var1 --> :  hola mundo!\n",
      "Lower case para var2 --> :  programas de python\n"
     ]
    }
   ],
   "source": [
    "var1 = 'Hola mundo!'\n",
    "var2 = \"Programas de python\"\n",
    "\n",
    "print (\"var1 --> \", var1)\n",
    "print (\"var2 --> \",var2)\n",
    "\n",
    "print (\"\\nTamaño de var1 --> : \", len(var1))\n",
    "print (\"Tamaño de var2 --> : \", len(var2))\n",
    "\n",
    "print (\"\\nUppercase para var1 --> : \", var1.upper())\n",
    "print (\"Upper case para var2 --> : \", var2.upper())\n",
    "\n",
    "print (\"\\nLower case para var1 --> : \", var1.lower())\n",
    "print (\"Lower case para var2 --> : \", var2.lower())"
   ]
  },
  {
   "cell_type": "markdown",
   "metadata": {},
   "source": [
    "Con input del usuario, revisar como introducir valores de numeros, letras y flotantes dentro de un print:"
   ]
  },
  {
   "cell_type": "code",
   "execution_count": 25,
   "metadata": {},
   "outputs": [
    {
     "name": "stdout",
     "output_type": "stream",
     "text": [
      "Introduce tu nombre: Valeria\n",
      "Introduce tu edad: 19\n",
      "Precio de tu item: 123\n",
      "Tu nombre es VALERIA, edad es 19 y el precio de tu item es 123.000000\n"
     ]
    }
   ],
   "source": [
    "name=input(\"Introduce tu nombre: \")\n",
    "age=int(input(\"Introduce tu edad: \"))\n",
    "price=float(input(\"Precio de tu item: \"))\n",
    "s=\"Tu nombre es %s, edad es %d y el precio de tu item es %f\" %(name.upper(),age,price)\n",
    "print (s)"
   ]
  },
  {
   "cell_type": "markdown",
   "metadata": {},
   "source": [
    "Introducción para el manejo de errores en Python:"
   ]
  },
  {
   "cell_type": "code",
   "execution_count": 26,
   "metadata": {},
   "outputs": [
    {
     "name": "stdout",
     "output_type": "stream",
     "text": [
      "100/ -5  -->  -20.0\n",
      "100/ -4  -->  -25.0\n",
      "100/ -3  -->  -33.333333333333336\n",
      "100/ -2  -->  -50.0\n",
      "100/ -1  -->  -100.0\n"
     ]
    },
    {
     "ename": "ZeroDivisionError",
     "evalue": "division by zero",
     "output_type": "error",
     "traceback": [
      "\u001b[1;31m---------------------------------------------------------------------------\u001b[0m",
      "\u001b[1;31mZeroDivisionError\u001b[0m                         Traceback (most recent call last)",
      "\u001b[1;32m<ipython-input-26-62296f2c0744>\u001b[0m in \u001b[0;36m<module>\u001b[1;34m\u001b[0m\n\u001b[0;32m      1\u001b[0m \u001b[1;32mfor\u001b[0m \u001b[0mi\u001b[0m \u001b[1;32min\u001b[0m \u001b[0mrange\u001b[0m\u001b[1;33m(\u001b[0m\u001b[1;33m-\u001b[0m\u001b[1;36m5\u001b[0m\u001b[1;33m,\u001b[0m\u001b[1;36m6\u001b[0m\u001b[1;33m)\u001b[0m\u001b[1;33m:\u001b[0m\u001b[1;33m\u001b[0m\u001b[1;33m\u001b[0m\u001b[0m\n\u001b[1;32m----> 2\u001b[1;33m     \u001b[0mprint\u001b[0m \u001b[1;33m(\u001b[0m\u001b[1;34m\"100/\"\u001b[0m\u001b[1;33m,\u001b[0m\u001b[0mi\u001b[0m\u001b[1;33m,\u001b[0m\u001b[1;34m\" --> \"\u001b[0m\u001b[1;33m,\u001b[0m \u001b[1;36m100\u001b[0m\u001b[1;33m/\u001b[0m\u001b[0mi\u001b[0m\u001b[1;33m)\u001b[0m\u001b[1;33m\u001b[0m\u001b[1;33m\u001b[0m\u001b[0m\n\u001b[0m",
      "\u001b[1;31mZeroDivisionError\u001b[0m: division by zero"
     ]
    }
   ],
   "source": [
    "for i in range(-5,6):\n",
    "    print (\"100/\",i,\" --> \", 100/i)"
   ]
  },
  {
   "cell_type": "code",
   "execution_count": 27,
   "metadata": {},
   "outputs": [
    {
     "name": "stdout",
     "output_type": "stream",
     "text": [
      "100/ -5  -->  -20.0\n",
      "100/ -4  -->  -25.0\n",
      "100/ -3  -->  -33.333333333333336\n",
      "100/ -2  -->  -50.0\n",
      "100/ -1  -->  -100.0\n",
      "error\n",
      "100/ 1  -->  100.0\n",
      "100/ 2  -->  50.0\n",
      "100/ 3  -->  33.333333333333336\n",
      "100/ 4  -->  25.0\n",
      "100/ 5  -->  20.0\n"
     ]
    }
   ],
   "source": [
    "for i in range(-5,6):\n",
    "    try:\n",
    "        print (\"100/\",i,\" --> \", 100/i)\n",
    "    except:\n",
    "        print (\"error\")"
   ]
  },
  {
   "cell_type": "code",
   "execution_count": 28,
   "metadata": {},
   "outputs": [
    {
     "name": "stdout",
     "output_type": "stream",
     "text": [
      "Introduce el nombre del archivo: Ej basicos\n"
     ]
    },
    {
     "ename": "FileNotFoundError",
     "evalue": "[Errno 2] No such file or directory: 'Ej basicos'",
     "output_type": "error",
     "traceback": [
      "\u001b[1;31m---------------------------------------------------------------------------\u001b[0m",
      "\u001b[1;31mFileNotFoundError\u001b[0m                         Traceback (most recent call last)",
      "\u001b[1;32m<ipython-input-28-0516b617e37f>\u001b[0m in \u001b[0;36m<module>\u001b[1;34m\u001b[0m\n\u001b[0;32m      1\u001b[0m \u001b[0marchivo\u001b[0m\u001b[1;33m=\u001b[0m\u001b[0minput\u001b[0m\u001b[1;33m(\u001b[0m\u001b[1;34m\"Introduce el nombre del archivo: \"\u001b[0m\u001b[1;33m)\u001b[0m\u001b[1;33m\u001b[0m\u001b[1;33m\u001b[0m\u001b[0m\n\u001b[1;32m----> 2\u001b[1;33m \u001b[0mfp\u001b[0m\u001b[1;33m=\u001b[0m\u001b[0mopen\u001b[0m\u001b[1;33m(\u001b[0m\u001b[0marchivo\u001b[0m\u001b[1;33m)\u001b[0m\u001b[1;33m\u001b[0m\u001b[1;33m\u001b[0m\u001b[0m\n\u001b[0m\u001b[0;32m      3\u001b[0m \u001b[0mfp\u001b[0m\u001b[1;33m.\u001b[0m\u001b[0mclose\u001b[0m\u001b[1;33m(\u001b[0m\u001b[1;33m)\u001b[0m\u001b[1;33m\u001b[0m\u001b[1;33m\u001b[0m\u001b[0m\n\u001b[0;32m      4\u001b[0m \u001b[0mprint\u001b[0m \u001b[1;33m(\u001b[0m\u001b[1;34m\"Terminado\"\u001b[0m\u001b[1;33m)\u001b[0m\u001b[1;33m\u001b[0m\u001b[1;33m\u001b[0m\u001b[0m\n",
      "\u001b[1;31mFileNotFoundError\u001b[0m: [Errno 2] No such file or directory: 'Ej basicos'"
     ]
    }
   ],
   "source": [
    "archivo=input(\"Introduce el nombre del archivo: \")\n",
    "fp=open(archivo)\n",
    "fp.close()\n",
    "print (\"Terminado\")"
   ]
  },
  {
   "cell_type": "code",
   "execution_count": 29,
   "metadata": {},
   "outputs": [
    {
     "name": "stdout",
     "output_type": "stream",
     "text": [
      "Introduce el nombre del archivo: ej basicos\n",
      "Error !! Archivo no encontrado\n",
      "Terminado\n"
     ]
    }
   ],
   "source": [
    "archivo=input(\"Introduce el nombre del archivo: \")\n",
    "try:\n",
    "    fp=open(archivo)\n",
    "    fp.close()\n",
    "except:\n",
    "    print (\"Error !! Archivo no encontrado\")\n",
    "\n",
    "print (\"Terminado\")"
   ]
  },
  {
   "cell_type": "code",
   "execution_count": 30,
   "metadata": {},
   "outputs": [
    {
     "name": "stdout",
     "output_type": "stream",
     "text": [
      "0  -->  1\n",
      "1  -->  2\n",
      "2  -->  3\n",
      "3  -->  4\n",
      "4  -->  5\n",
      "error\n",
      "error\n",
      "error\n"
     ]
    },
    {
     "data": {
      "text/plain": [
       "5"
      ]
     },
     "execution_count": 30,
     "metadata": {},
     "output_type": "execute_result"
    }
   ],
   "source": [
    "lista1 = [1,2,3,4,5]\n",
    "\n",
    "for i in range(8):\n",
    "    try:\n",
    "        print (i,\" --> \", lista1[i])\n",
    "    except:\n",
    "        print (\"error\")\n",
    "\n",
    "    \n",
    "len(lista1)"
   ]
  },
  {
   "cell_type": "code",
   "execution_count": 31,
   "metadata": {},
   "outputs": [
    {
     "name": "stdout",
     "output_type": "stream",
     "text": [
      "0 --> 1\n",
      "1 --> 2\n",
      "2 --> 3\n",
      "3 --> 4\n",
      "4 --> 5\n",
      "5 --> 6\n",
      "6 --> 7\n"
     ]
    }
   ],
   "source": [
    "lista1 = [1, 2, 3, 4, 5, 6, 7]\n",
    "\n",
    "for i in range(len(lista1)):\n",
    "    try:\n",
    "        print(i, \"-->\", lista1[i])\n",
    "    except:\n",
    "        print(\"Error\")"
   ]
  },
  {
   "cell_type": "markdown",
   "metadata": {},
   "source": [
    "Creación de numeros aleatorios en Python:"
   ]
  },
  {
   "cell_type": "code",
   "execution_count": 32,
   "metadata": {},
   "outputs": [
    {
     "name": "stdout",
     "output_type": "stream",
     "text": [
      "0.02643563110006175\n",
      "27\n",
      "90.54561632317798\n",
      "[10, 2, 4, 3]\n"
     ]
    }
   ],
   "source": [
    "import random as r\n",
    "print (r.random())\n",
    "print (r.randint(1, 100))\n",
    "print (r.uniform(1, 100))\n",
    "\n",
    "A=[1, 2, 3, 4, 5, 6, 7, 8, 9, 10]\n",
    "print (r.sample(A, 4))"
   ]
  },
  {
   "cell_type": "markdown",
   "metadata": {},
   "source": [
    "# Ejercicios con estructuras básicas de python.\n",
    "# Tuplas\n",
    "* Crear una variable flotante, integer, boleana y compleja e imprimir el tipo de variable que es."
   ]
  },
  {
   "cell_type": "code",
   "execution_count": 33,
   "metadata": {},
   "outputs": [
    {
     "name": "stdout",
     "output_type": "stream",
     "text": [
      "\n",
      "<class 'float'>\n",
      "<class 'int'>\n",
      "<class 'bool'>\n",
      "<class 'complex'>\n"
     ]
    }
   ],
   "source": [
    "flotante = 2.7\n",
    "integer = 134\n",
    "booleana = True\n",
    "compleja = 1+2j\n",
    "\n",
    "print()\n",
    "print(type(flotante))\n",
    "print(type(integer))\n",
    "print(type(booleana))\n",
    "print(type(compleja))"
   ]
  },
  {
   "cell_type": "markdown",
   "metadata": {},
   "source": [
    "* Crear una tupla con valores enteros imprimir el primer y ultimo valor.\n",
    "\n",
    "* Añadir 3 valores de string a la tupla.\n",
    "\n",
    "* Verificar si una variable existe dentro de la tupla."
   ]
  },
  {
   "cell_type": "code",
   "execution_count": 34,
   "metadata": {},
   "outputs": [
    {
     "name": "stdout",
     "output_type": "stream",
     "text": [
      "Primer numero:  1\n",
      "Ultimo numero:  3\n",
      "\n",
      "(1, 5, 2, 6, 6, 8, 2, 2, 6, 8, 6, 7, 8, 5, 9, 5, 9, 5, 3, 'Hola', 'Vale', 'Hello')\n"
     ]
    },
    {
     "data": {
      "text/plain": [
       "True"
      ]
     },
     "execution_count": 34,
     "metadata": {},
     "output_type": "execute_result"
    }
   ],
   "source": [
    "a=[1,5,2,6,6,8,2,2,6,8,6,7,8,5,9,5,9,5,3]\n",
    "\n",
    "a=tuple(a)\n",
    "primernum = a[0]\n",
    "ultimonum = a [-1]\n",
    "\n",
    "print (\"Primer numero: \",primernum)\n",
    "print (\"Ultimo numero: \",ultimonum)\n",
    "\n",
    "print()\n",
    "print(a+('Hola','Vale','Hello'))\n",
    "\n",
    "6 in a"
   ]
  },
  {
   "cell_type": "markdown",
   "metadata": {},
   "source": [
    "# Listas\n",
    "* Crear una lista con 40 elementos aleatorios enteros.\n",
    "\n",
    "* Con una funcion (def) crear dos listas nuevas a partir de la lista creada por numeros aleatorios, en la cual en una esten los elementos pares, y en la otra los elementos impares.\n",
    "\n",
    "* Crear dos variables con la longitud de ambas listas nuevas e imprimir las variables\n",
    "\n",
    "* Ordenar los elementos de la lista par de mayor a menor, y los de la lista impar de menor a mayor.\n",
    "\n",
    "* Utilizar al menos cuatro de las funciones de listas en python en la lista original de 40 elementos."
   ]
  },
  {
   "cell_type": "code",
   "execution_count": 35,
   "metadata": {},
   "outputs": [
    {
     "name": "stdout",
     "output_type": "stream",
     "text": [
      "[8, 5, 9, 4, 8, 1, 3, 6, 11, 17, 11, 2, 12, 16, 1, 1, 17, 20, 19, 3, 15, 9, 15, 17, 2, 20, 9, 18, 2, 19, 1, 11, 2, 3, 11, 8, 3, 5, 14, 1]\n",
      "\n",
      "Lista de números pares:  [8, 4, 8, 6, 2, 12, 16, 20, 2, 20, 18, 2, 2, 8, 14]\n",
      "\n",
      "Lista de impares:  [5, 9, 1, 3, 11, 17, 11, 1, 1, 17, 19, 3, 15, 9, 15, 17, 9, 19, 1, 11, 3, 11, 3, 5, 1]\n",
      "\n",
      "Existe la longitud de pares:  15\n",
      "\n",
      "Existe la longitud de impares:  25\n",
      "\n",
      "[2, 5, 9, 4, 8, 1, 3, 6, 11, 17, 11, 2, 12, 16, 1, 1, 17, 20, 19, 3, 15, 9, 15, 17, 2, 20, 9, 18, 2, 19, 1, 11, 2, 3, 11, 8, 3, 5, 14, 1]\n",
      "\n",
      "[8, 1, 3, 6]\n",
      "\n",
      "[2, 5, 9, 4, 3, 8, 1, 3, 6, 11, 17, 11, 2, 12, 16, 1, 1, 17, 20, 19, 3, 15, 9, 15, 17, 2, 20, 9, 18, 2, 19, 1, 11, 2, 3, 11, 8, 3, 5, 14, 1]\n",
      "\n",
      "[2, 5, 9, 4, 3, 8, 1, 3, 6, 11, 17, 11, 2, 12, 16, 1, 1, 17, 20, 19, 3, 15, 9, 15, 17, 2, 20, 9, 18, 2, 19, 1, 11, 2, 3, 11, 8, 3, 5, 14, 1, 5]\n"
     ]
    }
   ],
   "source": [
    "import random as r\n",
    "\n",
    "lista=[r.randint(1,20) for i in range(40)]\n",
    "print (lista)\n",
    "\n",
    "def NumParImp(lista):\n",
    "    impares=[]\n",
    "    pares=[]\n",
    "    for i in range(len(lista)):\n",
    "        if lista[i]%2==0:\n",
    "            pares.append(lista[i])\n",
    "        else:\n",
    "            impares.append(lista[i])\n",
    "    return pares,impares\n",
    "\n",
    "pares,impares=NumParImp(lista)\n",
    "print()\n",
    "print(\"Lista de números pares: \",pares)\n",
    "print()\n",
    "print(\"Lista de impares: \",impares)\n",
    "\n",
    "par=len(pares)\n",
    "print ()\n",
    "print (\"Existe la longitud de pares: \", par)\n",
    "\n",
    "impar=len(impares)\n",
    "print()\n",
    "print (\"Existe la longitud de impares: \", impar)\n",
    "\n",
    "# Cambiar el primer numero por 2\n",
    "lista[0]=2\n",
    "print()\n",
    "print (lista)\n",
    "\n",
    "# Imprimir los numeros indicados (recordar que python cuenta desde 0)\n",
    "print()\n",
    "print (lista[4:8])\n",
    "\n",
    "# Insertar un nuevo dato a la lista (numero en que va, el numero que quieres agregar)\n",
    "print()\n",
    "lista.insert(4,3)\n",
    "print (lista)\n",
    "\n",
    "# Agregar un nuevo dato al final de la lista\n",
    "print()\n",
    "lista.append(5)\n",
    "print (lista)"
   ]
  },
  {
   "cell_type": "markdown",
   "metadata": {},
   "source": [
    "# Diccionarios\n",
    "* Crear un diccionario de 6 personas que conozcas con su primer nombre y su edad.\n",
    "\n",
    "* Crear una lista con los valores de la edad y reacomodar la lista de menor a mayor valor\n",
    "\n",
    "* Usando el diccionario y un loop, imprimir solo los nombres\n",
    "\n",
    "* Añadir dos personas nuevas a tu diccionario, incluyendo edad"
   ]
  },
  {
   "cell_type": "code",
   "execution_count": 39,
   "metadata": {},
   "outputs": [
    {
     "name": "stdout",
     "output_type": "stream",
     "text": [
      "[21, 35, 19, 63, 25, 59]\n",
      "\n",
      "[19, 21, 25, 35, 59, 63]\n",
      "\n",
      "Orlando\n",
      "Jesus\n",
      "Jorge\n",
      "Herminio\n",
      "Edgar\n",
      "Mary\n",
      "\n",
      "{'Orlando': 21, 'Jesus': 35, 'Jorge': 19, 'Herminio': 63, 'Edgar': 25, 'Mary': 59, 'Valeria': 19, 'Laura': 29}\n"
     ]
    }
   ],
   "source": [
    "dicc ={\"Orlando\":21,\"Jesus\":35,\"Jorge\":19,\"Herminio\":63,\"Edgar\":25,\"Mary\":59}\n",
    "\n",
    "edad = [i for i in dicc.values()]\n",
    "print (edad)\n",
    "\n",
    "print()\n",
    "edad.sort()\n",
    "print (edad)\n",
    "\n",
    "print()\n",
    "for i in dicc:\n",
    "    print (i)\n",
    "    \n",
    "print()\n",
    "dicc[\"Valeria\"]=19\n",
    "dicc[\"Laura\"]=29\n",
    "\n",
    "print (dicc)"
   ]
  },
  {
   "cell_type": "markdown",
   "metadata": {},
   "source": [
    "# Sets\n",
    "* Crea un set con 100 numeros aleatorios enteros del 1 al 25.\n",
    "\n",
    "* Comprueba la longitud de tu set\n",
    "\n",
    "* Crea una lista de 5 numeros aleatorios del 1 al 10 y comprueba si cada valor aparece en el set inicial."
   ]
  },
  {
   "cell_type": "code",
   "execution_count": 40,
   "metadata": {},
   "outputs": [
    {
     "name": "stdout",
     "output_type": "stream",
     "text": [
      "{1, 2, 3, 4, 5, 6, 7, 8, 9, 10, 11, 12, 13, 14, 15, 16, 17, 18, 19, 20, 21, 22, 23, 24, 25}\n",
      "\n",
      "25\n",
      "\n",
      "[3, 8, 6, 6, 7]\n",
      "\n",
      "Existe:  3 True\n",
      "Existe:  8 True\n",
      "Existe:  6 True\n",
      "Existe:  6 True\n",
      "Existe:  7 True\n"
     ]
    }
   ],
   "source": [
    "import random as r\n",
    "\n",
    "a={r.randint(1,25) for i in range(100)}\n",
    "print (a)    \n",
    "\n",
    "print()\n",
    "print (len (a))\n",
    "\n",
    "print()\n",
    "b=[r.randint(1,10) for i in range(5)]\n",
    "print (b)\n",
    "\n",
    "print()\n",
    "for i in range(len(b)):\n",
    "    print(\"Existe: \", b[i], b[i] in a)"
   ]
  },
  {
   "cell_type": "code",
   "execution_count": null,
   "metadata": {},
   "outputs": [],
   "source": []
  }
 ],
 "metadata": {
  "kernelspec": {
   "display_name": "Python 3",
   "language": "python",
   "name": "python3"
  }
 },
 "nbformat": 4,
 "nbformat_minor": 4
}
